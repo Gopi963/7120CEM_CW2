{
  "nbformat": 4,
  "nbformat_minor": 0,
  "metadata": {
    "colab": {
      "provenance": []
    },
    "kernelspec": {
      "name": "python3",
      "display_name": "Python 3"
    },
    "language_info": {
      "name": "python"
    }
  },
  "cells": [
    {
      "cell_type": "code",
      "execution_count": 1,
      "metadata": {
        "id": "HThUUo_6omHx"
      },
      "outputs": [],
      "source": [
        "import numpy as np\n",
        "import pandas as pd\n",
        "import matplotlib.pyplot as plt\n",
        "import seaborn as sns\n",
        "%matplotlib inline\n",
        "import re\n",
        "from nltk.corpus import stopwords\n",
        "from nltk.tokenize import word_tokenize\n",
        "from nltk.stem import WordNetLemmatizer\n",
        "from nltk import pos_tag\n",
        "from wordcloud import WordCloud\n",
        "import matplotlib.pyplot as plt\n",
        "import datetime as dt\n",
        "from sklearn.feature_extraction.text import TfidfVectorizer\n",
        "from sklearn.impute import SimpleImputer\n",
        "from sklearn.preprocessing import StandardScaler, OneHotEncoder,MinMaxScaler\n",
        "from sklearn.metrics import mean_squared_error, r2_score\n",
        "import seaborn as sns\n",
        "from sklearn.naive_bayes import MultinomialNB\n",
        "from sklearn.linear_model import LogisticRegression\n",
        "from sklearn.svm import SVC\n",
        "from imblearn.over_sampling import SMOTE\n",
        "from sklearn.model_selection import train_test_split\n",
        "import string\n",
        "from sklearn.metrics import accuracy_score, classification_report, confusion_matrix , roc_curve, roc_auc_score\n",
        "from sklearn.metrics import precision_score, recall_score, f1_score\n",
        "import pickle"
      ]
    },
    {
      "cell_type": "code",
      "source": [
        "import nltk\n",
        "nltk.download('punkt')\n",
        "nltk.download('averaged_perceptron_tagger')\n",
        "nltk.download('wordnet')\n",
        "nltk.download('stopwords')"
      ],
      "metadata": {
        "colab": {
          "base_uri": "https://localhost:8080/"
        },
        "id": "_hbSa5pwovoi",
        "outputId": "fa19c647-330e-4288-d691-e0e10a102a14"
      },
      "execution_count": 2,
      "outputs": [
        {
          "output_type": "stream",
          "name": "stderr",
          "text": [
            "[nltk_data] Downloading package punkt to /root/nltk_data...\n",
            "[nltk_data]   Unzipping tokenizers/punkt.zip.\n",
            "[nltk_data] Downloading package averaged_perceptron_tagger to\n",
            "[nltk_data]     /root/nltk_data...\n",
            "[nltk_data]   Unzipping taggers/averaged_perceptron_tagger.zip.\n",
            "[nltk_data] Downloading package wordnet to /root/nltk_data...\n",
            "[nltk_data] Downloading package stopwords to /root/nltk_data...\n",
            "[nltk_data]   Unzipping corpora/stopwords.zip.\n"
          ]
        },
        {
          "output_type": "execute_result",
          "data": {
            "text/plain": [
              "True"
            ]
          },
          "metadata": {},
          "execution_count": 2
        }
      ]
    },
    {
      "cell_type": "code",
      "source": [
        "from tensorflow.keras.models import Sequential\n",
        "from tensorflow.keras.layers import LSTM, Dense, Embedding, SpatialDropout1D\n",
        "from tensorflow.keras.preprocessing.sequence import pad_sequences\n",
        "from tensorflow.keras.preprocessing.text import Tokenizer,one_hot\n",
        "\n",
        "import tensorflow as tf\n",
        "from tensorflow.keras import regularizers\n",
        "\n",
        "from tensorflow.keras import layers\n",
        "from tensorflow.keras import losses\n",
        "\n",
        "from collections import Counter"
      ],
      "metadata": {
        "id": "fWvBNCYVowgj"
      },
      "execution_count": 3,
      "outputs": []
    },
    {
      "cell_type": "code",
      "source": [
        "from google.colab import drive\n",
        "drive.mount('/content/drive')"
      ],
      "metadata": {
        "colab": {
          "base_uri": "https://localhost:8080/"
        },
        "id": "xTdmq5O4ozNr",
        "outputId": "42d1e5d5-9ee3-423c-8cfd-7c7aec40761a"
      },
      "execution_count": 4,
      "outputs": [
        {
          "output_type": "stream",
          "name": "stdout",
          "text": [
            "Mounted at /content/drive\n"
          ]
        }
      ]
    },
    {
      "cell_type": "code",
      "source": [
        "data = pd.read_csv('/content/drive/MyDrive/train_en.tsv', sep='\\t')"
      ],
      "metadata": {
        "id": "emgd39u9o1Vq"
      },
      "execution_count": 5,
      "outputs": []
    },
    {
      "cell_type": "code",
      "source": [
        "def find_non_numeric(column):\n",
        "    non_numeric_values = column[~column.apply(lambda x: str(x).isdigit())]\n",
        "    return non_numeric_values"
      ],
      "metadata": {
        "id": "b_HoyCcQpEO6"
      },
      "execution_count": 6,
      "outputs": []
    },
    {
      "cell_type": "code",
      "source": [
        "non_numeric_AG = find_non_numeric(data['AG'])"
      ],
      "metadata": {
        "id": "SsVIPIYVpK7B"
      },
      "execution_count": 7,
      "outputs": []
    },
    {
      "cell_type": "code",
      "source": [
        "non_numeric_AG = find_non_numeric(data['AG'])"
      ],
      "metadata": {
        "id": "6klQCJDppOrR"
      },
      "execution_count": 8,
      "outputs": []
    },
    {
      "cell_type": "code",
      "source": [
        "data = data[data['AG'].apply(lambda x: str(x).isdigit())]"
      ],
      "metadata": {
        "id": "ghX_g2dmpPrU"
      },
      "execution_count": 9,
      "outputs": []
    },
    {
      "cell_type": "code",
      "source": [
        "data['AG'] = data['AG'].astype(int)"
      ],
      "metadata": {
        "colab": {
          "base_uri": "https://localhost:8080/"
        },
        "id": "sJ6YriTfxeqv",
        "outputId": "bad0c646-353d-4520-cee3-665fd021104a"
      },
      "execution_count": 10,
      "outputs": [
        {
          "output_type": "stream",
          "name": "stderr",
          "text": [
            "<ipython-input-10-8b9662f95830>:1: SettingWithCopyWarning: \n",
            "A value is trying to be set on a copy of a slice from a DataFrame.\n",
            "Try using .loc[row_indexer,col_indexer] = value instead\n",
            "\n",
            "See the caveats in the documentation: https://pandas.pydata.org/pandas-docs/stable/user_guide/indexing.html#returning-a-view-versus-a-copy\n",
            "  data['AG'] = data['AG'].astype(int)\n"
          ]
        }
      ]
    },
    {
      "cell_type": "code",
      "source": [],
      "metadata": {
        "id": "k8VQmpXHxqIf"
      },
      "execution_count": 10,
      "outputs": []
    },
    {
      "cell_type": "code",
      "source": [
        "def preprocess_text(text):\n",
        "    # Remove URLs\n",
        "    text = re.sub(r'http\\S+', '', text)\n",
        "    # Remove special characters, numbers, and punctuations (except for hashtags and @mentions)\n",
        "    text = re.sub(\"[^a-zA-Z#@]\", \" \", text)\n",
        "    # Convert to lowercase\n",
        "    text = text.lower()\n",
        "    # Tokenize text\n",
        "    words = word_tokenize(text)\n",
        "\n",
        "    # Remove stopwords\n",
        "    stop_words = set(stopwords.words('english'))\n",
        "    words = [word for word in words if word not in stop_words]\n",
        "    exclude =string.punctuation\n",
        "    words = [word for word in words if word not in exclude]\n",
        "\n",
        "    # Lemmatize words based on POS tags\n",
        "    lemmatizer = WordNetLemmatizer()\n",
        "    tagged_words = pos_tag(words)\n",
        "    lemmatized_words = []\n",
        "    for word, tag in tagged_words:\n",
        "        if tag.startswith('NN'):  # Noun\n",
        "            pos = 'n'\n",
        "        elif tag.startswith('VB'):  # Verb\n",
        "            pos = 'v'\n",
        "        elif tag.startswith('JJ'):  # Adjective\n",
        "            pos = 'a'\n",
        "        else:\n",
        "            pos = 'n'  # Default to noun\n",
        "        lemmatized_words.append(lemmatizer.lemmatize(word, pos))\n",
        "    text = ' '.join(lemmatized_words)\n",
        "    return text\n"
      ],
      "metadata": {
        "id": "tKAclibBpXMh"
      },
      "execution_count": 11,
      "outputs": []
    },
    {
      "cell_type": "code",
      "source": [
        "data['text'] = data['text'].apply(preprocess_text)"
      ],
      "metadata": {
        "id": "D9d7j8FNpjzp"
      },
      "execution_count": 12,
      "outputs": []
    },
    {
      "cell_type": "markdown",
      "source": [
        "# **TASK-1**"
      ],
      "metadata": {
        "id": "sFHAUnRBpech"
      }
    },
    {
      "cell_type": "code",
      "source": [
        "X = data['text']\n",
        "y = data['HS']"
      ],
      "metadata": {
        "id": "syP73HvOpYRi"
      },
      "execution_count": 13,
      "outputs": []
    },
    {
      "cell_type": "code",
      "source": [
        "voc_size=5000"
      ],
      "metadata": {
        "id": "w2XqKgpbroGJ"
      },
      "execution_count": 14,
      "outputs": []
    },
    {
      "cell_type": "code",
      "source": [
        "onehot_repr = [one_hot(words,voc_size)for words in X]"
      ],
      "metadata": {
        "id": "fXsUU9WDrvvg"
      },
      "execution_count": 15,
      "outputs": []
    },
    {
      "cell_type": "code",
      "source": [
        "embedded_doc = pad_sequences(onehot_repr,padding='pre',maxlen=40)\n",
        "print(embedded_doc)"
      ],
      "metadata": {
        "colab": {
          "base_uri": "https://localhost:8080/"
        },
        "id": "ZRh3LVX0rzCp",
        "outputId": "01dd5a7b-70da-4c5c-a6da-5fe206f3e530"
      },
      "execution_count": 16,
      "outputs": [
        {
          "output_type": "stream",
          "name": "stdout",
          "text": [
            "[[   0    0    0 ...  442   95 4795]\n",
            " [   0    0    0 ... 2041 2728 3928]\n",
            " [   0    0    0 ... 2914 1683  178]\n",
            " ...\n",
            " [   0    0    0 ... 2017 4193 2917]\n",
            " [   0    0    0 ... 3822 4971 4067]\n",
            " [   0    0    0 ... 1677 4697  502]]\n"
          ]
        }
      ]
    },
    {
      "cell_type": "code",
      "source": [
        "from keras.callbacks import ModelCheckpoint"
      ],
      "metadata": {
        "id": "yHL7ijXKsAnD"
      },
      "execution_count": 17,
      "outputs": []
    },
    {
      "cell_type": "code",
      "source": [
        "embedding_vector_features = 40\n",
        "model = Sequential()\n",
        "model.add(Embedding(voc_size, embedding_vector_features))\n",
        "model.add(LSTM(100, input_shape=(30, embedding_vector_features)))\n",
        "model.add(Dense(1, activation='sigmoid'))\n",
        "model.compile(loss='binary_crossentropy', optimizer='adam', metrics=['accuracy'])\n",
        "print(model.summary())"
      ],
      "metadata": {
        "colab": {
          "base_uri": "https://localhost:8080/"
        },
        "id": "KLq0c2OLsFGY",
        "outputId": "cd7b5602-7755-4abc-ed5a-5e70258d5d2d"
      },
      "execution_count": 18,
      "outputs": [
        {
          "output_type": "stream",
          "name": "stdout",
          "text": [
            "Model: \"sequential\"\n",
            "_________________________________________________________________\n",
            " Layer (type)                Output Shape              Param #   \n",
            "=================================================================\n",
            " embedding (Embedding)       (None, None, 40)          200000    \n",
            "                                                                 \n",
            " lstm (LSTM)                 (None, 100)               56400     \n",
            "                                                                 \n",
            " dense (Dense)               (None, 1)                 101       \n",
            "                                                                 \n",
            "=================================================================\n",
            "Total params: 256501 (1001.96 KB)\n",
            "Trainable params: 256501 (1001.96 KB)\n",
            "Non-trainable params: 0 (0.00 Byte)\n",
            "_________________________________________________________________\n",
            "None\n"
          ]
        }
      ]
    },
    {
      "cell_type": "code",
      "source": [
        "X_final = np.array(embedded_doc)\n",
        "y_final = np.array(y)"
      ],
      "metadata": {
        "id": "kgwdUIdFsNBB"
      },
      "execution_count": 19,
      "outputs": []
    },
    {
      "cell_type": "code",
      "source": [
        "X_train1, X_test1, y_train1, y_test1 = train_test_split(X_final, y_final, test_size=0.2, random_state=42)"
      ],
      "metadata": {
        "id": "n1YBvNsjsRRh"
      },
      "execution_count": 20,
      "outputs": []
    },
    {
      "cell_type": "code",
      "source": [
        "\n",
        "\n",
        "# Train the model and save the history\n",
        "history = model.fit(X_train1, y_train1, validation_data=(X_test1, y_test1), epochs=5, batch_size=64)\n",
        "\n"
      ],
      "metadata": {
        "colab": {
          "base_uri": "https://localhost:8080/"
        },
        "id": "Dxh4s6OxsUdI",
        "outputId": "346bd74a-fdb8-4688-a5f4-08798f0ecf6a"
      },
      "execution_count": 21,
      "outputs": [
        {
          "output_type": "stream",
          "name": "stdout",
          "text": [
            "Epoch 1/5\n",
            "113/113 [==============================] - 17s 126ms/step - loss: 0.6123 - accuracy: 0.6556 - val_loss: 0.5299 - val_accuracy: 0.7533\n",
            "Epoch 2/5\n",
            "113/113 [==============================] - 9s 83ms/step - loss: 0.4187 - accuracy: 0.8122 - val_loss: 0.5252 - val_accuracy: 0.7539\n",
            "Epoch 3/5\n",
            "113/113 [==============================] - 7s 66ms/step - loss: 0.3424 - accuracy: 0.8533 - val_loss: 0.5854 - val_accuracy: 0.7317\n",
            "Epoch 4/5\n",
            "113/113 [==============================] - 7s 64ms/step - loss: 0.2850 - accuracy: 0.8818 - val_loss: 0.6512 - val_accuracy: 0.7156\n",
            "Epoch 5/5\n",
            "113/113 [==============================] - 10s 92ms/step - loss: 0.2385 - accuracy: 0.9046 - val_loss: 0.7492 - val_accuracy: 0.7028\n"
          ]
        }
      ]
    },
    {
      "cell_type": "code",
      "source": [
        "\n",
        "\n",
        "# Plot training & validation accuracy values\n",
        "plt.figure(figsize=(12, 4))\n",
        "\n",
        "plt.subplot(1, 2, 1)\n",
        "plt.plot(history.history['accuracy'])\n",
        "plt.plot(history.history['val_accuracy'])\n",
        "plt.title('Model accuracy')\n",
        "plt.ylabel('Accuracy')\n",
        "plt.xlabel('Epoch')\n",
        "plt.legend(['Train', 'Validation'], loc='upper left')\n",
        "\n",
        "\n",
        "plt.show()\n"
      ],
      "metadata": {
        "colab": {
          "base_uri": "https://localhost:8080/",
          "height": 410
        },
        "id": "MkbWArAstdIQ",
        "outputId": "f928124b-eee6-445b-b72f-b51adad86196"
      },
      "execution_count": 22,
      "outputs": [
        {
          "output_type": "display_data",
          "data": {
            "text/plain": [
              "<Figure size 1200x400 with 1 Axes>"
            ],
            "image/png": "[encoded data removed]"
          },
          "metadata": {}
        }
      ]
    },
    {
      "cell_type": "code",
      "source": [
        "loss, accuracy = model.evaluate(X_test1, y_test1)\n",
        "print(f'Best Model Accuracy: {accuracy}')\n",
        "\n",
        "# Get predictions\n",
        "y_pred_prob = model.predict(X_test1)\n",
        "# Convert probabilities to class labels\n",
        "y_pred = (y_pred_prob > 0.5).astype(int)\n",
        "\n",
        "# Create and save confusion matrix\n",
        "cm = confusion_matrix(y_test1, y_pred)\n",
        "np.savetxt(\"confusion_matrix.csv\", cm, delimiter=\",\")\n",
        "print(\"Confusion Matrix:\\n\", cm)\n",
        "\n",
        "# Print classification report\n",
        "print(\"Classification Report:\\n\", classification_report(y_test1, y_pred))\n",
        "\n",
        "# Plot confusion matrix\n",
        "plt.figure(figsize=(8, 6))\n",
        "sns.heatmap(cm, annot=True, fmt='d', cmap='Blues')\n",
        "plt.xlabel('Predicted')\n",
        "plt.ylabel('Actual')\n",
        "plt.title('Confusion Matrix')\n",
        "plt.show()\n",
        "\n",
        "\n",
        "\n"
      ],
      "metadata": {
        "colab": {
          "base_uri": "https://localhost:8080/",
          "height": 854
        },
        "id": "4Nvzqa72s6nI",
        "outputId": "b2e34496-5431-4785-ecdc-1fd2b8175f37"
      },
      "execution_count": 23,
      "outputs": [
        {
          "output_type": "stream",
          "name": "stdout",
          "text": [
            "57/57 [==============================] - 1s 14ms/step - loss: 0.7492 - accuracy: 0.7028\n",
            "Best Model Accuracy: 0.7027778029441833\n",
            "57/57 [==============================] - 1s 9ms/step\n",
            "Confusion Matrix:\n",
            " [[779 269]\n",
            " [266 486]]\n",
            "Classification Report:\n",
            "               precision    recall  f1-score   support\n",
            "\n",
            "           0       0.75      0.74      0.74      1048\n",
            "           1       0.64      0.65      0.64       752\n",
            "\n",
            "    accuracy                           0.70      1800\n",
            "   macro avg       0.69      0.69      0.69      1800\n",
            "weighted avg       0.70      0.70      0.70      1800\n",
            "\n"
          ]
        },
        {
          "output_type": "display_data",
          "data": {
            "text/plain": [
              "<Figure size 800x600 with 2 Axes>"
            ],
            "image/png": "[encoded data removed]"
          },
          "metadata": {}
        }
      ]
    },
    {
      "cell_type": "markdown",
      "source": [
        "# **TASK-2**"
      ],
      "metadata": {
        "id": "QdWsRM9KwaJA"
      }
    },
    {
      "cell_type": "markdown",
      "source": [
        "**PART-B**"
      ],
      "metadata": {
        "id": "A08NST6wwcsv"
      }
    },
    {
      "cell_type": "code",
      "source": [
        "X = data['text']\n",
        "y = data['AG']"
      ],
      "metadata": {
        "id": "9mbcnNncwudw"
      },
      "execution_count": 24,
      "outputs": []
    },
    {
      "cell_type": "code",
      "source": [
        "voc_size=5000"
      ],
      "metadata": {
        "id": "vNPMgV_pwy9P"
      },
      "execution_count": 25,
      "outputs": []
    },
    {
      "cell_type": "code",
      "source": [
        "onehot_repr = [one_hot(words,voc_size)for words in X]"
      ],
      "metadata": {
        "id": "iaej8HCPw14v"
      },
      "execution_count": 26,
      "outputs": []
    },
    {
      "cell_type": "code",
      "source": [
        "embedded_doc = pad_sequences(onehot_repr,padding='pre',maxlen=30)\n",
        "print(embedded_doc)"
      ],
      "metadata": {
        "colab": {
          "base_uri": "https://localhost:8080/"
        },
        "id": "rWgITodjw25f",
        "outputId": "f6b0e5be-a279-47b1-82c4-833b78ab96bf"
      },
      "execution_count": 27,
      "outputs": [
        {
          "output_type": "stream",
          "name": "stdout",
          "text": [
            "[[   0    0    0 ...  442   95 4795]\n",
            " [   0    0    0 ... 2041 2728 3928]\n",
            " [   0    0    0 ... 2914 1683  178]\n",
            " ...\n",
            " [   0    0    0 ... 2017 4193 2917]\n",
            " [   0    0    0 ... 3822 4971 4067]\n",
            " [   0    0    0 ... 1677 4697  502]]\n"
          ]
        }
      ]
    },
    {
      "cell_type": "code",
      "source": [
        "embedding_vector_features = 40\n",
        "model = Sequential()\n",
        "model.add(Embedding(voc_size, embedding_vector_features))\n",
        "model.add(LSTM(100, input_shape=(30, embedding_vector_features)))\n",
        "model.add(Dense(1, activation='sigmoid'))\n",
        "model.compile(loss='binary_crossentropy', optimizer='adam', metrics=['accuracy'])\n",
        "print(model.summary())"
      ],
      "metadata": {
        "colab": {
          "base_uri": "https://localhost:8080/"
        },
        "id": "UY_ufbM0xC1g",
        "outputId": "10261751-49d2-4308-fd8e-f7f51e85782b"
      },
      "execution_count": 28,
      "outputs": [
        {
          "output_type": "stream",
          "name": "stdout",
          "text": [
            "Model: \"sequential_1\"\n",
            "_________________________________________________________________\n",
            " Layer (type)                Output Shape              Param #   \n",
            "=================================================================\n",
            " embedding_1 (Embedding)     (None, None, 40)          200000    \n",
            "                                                                 \n",
            " lstm_1 (LSTM)               (None, 100)               56400     \n",
            "                                                                 \n",
            " dense_1 (Dense)             (None, 1)                 101       \n",
            "                                                                 \n",
            "=================================================================\n",
            "Total params: 256501 (1001.96 KB)\n",
            "Trainable params: 256501 (1001.96 KB)\n",
            "Non-trainable params: 0 (0.00 Byte)\n",
            "_________________________________________________________________\n",
            "None\n"
          ]
        }
      ]
    },
    {
      "cell_type": "code",
      "source": [
        "X_final = np.array(embedded_doc)\n",
        "y_final = np.array(y)"
      ],
      "metadata": {
        "id": "c0pPGVn4xGQn"
      },
      "execution_count": 29,
      "outputs": []
    },
    {
      "cell_type": "code",
      "source": [
        "X_train1, X_test1, y_train1, y_test1 = train_test_split(X_final, y_final, test_size=0.2, random_state=42)"
      ],
      "metadata": {
        "id": "3XpOHkXwxJlQ"
      },
      "execution_count": 30,
      "outputs": []
    },
    {
      "cell_type": "code",
      "source": [
        "# Train the model and save the history\n",
        "history = model.fit(X_train1, y_train1, validation_data=(X_test1, y_test1), epochs=5, batch_size=64)"
      ],
      "metadata": {
        "colab": {
          "base_uri": "https://localhost:8080/"
        },
        "id": "303cIS2-xMdX",
        "outputId": "c21a50f5-b67b-482f-bc09-ed288ab80b28"
      },
      "execution_count": 31,
      "outputs": [
        {
          "output_type": "stream",
          "name": "stdout",
          "text": [
            "Epoch 1/5\n",
            "113/113 [==============================] - 9s 56ms/step - loss: 0.4477 - accuracy: 0.8257 - val_loss: 0.3931 - val_accuracy: 0.8344\n",
            "Epoch 2/5\n",
            "113/113 [==============================] - 5s 47ms/step - loss: 0.3307 - accuracy: 0.8587 - val_loss: 0.3822 - val_accuracy: 0.8406\n",
            "Epoch 3/5\n",
            "113/113 [==============================] - 7s 63ms/step - loss: 0.2546 - accuracy: 0.8965 - val_loss: 0.4167 - val_accuracy: 0.8250\n",
            "Epoch 4/5\n",
            "113/113 [==============================] - 5s 41ms/step - loss: 0.2014 - accuracy: 0.9211 - val_loss: 0.4968 - val_accuracy: 0.8272\n",
            "Epoch 5/5\n",
            "113/113 [==============================] - 6s 50ms/step - loss: 0.1664 - accuracy: 0.9354 - val_loss: 0.6272 - val_accuracy: 0.8228\n"
          ]
        }
      ]
    },
    {
      "cell_type": "code",
      "source": [
        "\n",
        "# Plot training & validation accuracy values\n",
        "plt.figure(figsize=(12, 4))\n",
        "\n",
        "plt.subplot(1, 2, 1)\n",
        "plt.plot(history.history['accuracy'])\n",
        "plt.plot(history.history['val_accuracy'])\n",
        "plt.title('Model accuracy')\n",
        "plt.ylabel('Accuracy')\n",
        "plt.xlabel('Epoch')\n",
        "plt.legend(['Train', 'Validation'], loc='upper left')\n",
        "\n",
        "\n",
        "\n",
        "plt.show()"
      ],
      "metadata": {
        "colab": {
          "base_uri": "https://localhost:8080/",
          "height": 410
        },
        "id": "QcuFJ7d8xPcx",
        "outputId": "c5539f5e-90c1-48ff-b861-2ca73d74b208"
      },
      "execution_count": 32,
      "outputs": [
        {
          "output_type": "display_data",
          "data": {
            "text/plain": [
              "<Figure size 1200x400 with 1 Axes>"
            ],
            "image/png": "[encoded data removed]"
          },
          "metadata": {}
        }
      ]
    },
    {
      "cell_type": "code",
      "source": [
        "loss, accuracy = model.evaluate(X_test1, y_test1)\n",
        "print(f'Best Model Accuracy: {accuracy}')\n",
        "\n",
        "# Get predictions\n",
        "y_pred_prob = model.predict(X_test1)\n",
        "# Convert probabilities to class labels\n",
        "y_pred = (y_pred_prob > 0.5).astype(int)\n",
        "\n",
        "# Create and save confusion matrix\n",
        "cm = confusion_matrix(y_test1, y_pred)\n",
        "np.savetxt(\"confusion_matrix.csv\", cm, delimiter=\",\")\n",
        "print(\"Confusion Matrix:\\n\", cm)\n",
        "\n",
        "# Print classification report\n",
        "print(\"Classification Report:\\n\", classification_report(y_test1, y_pred))\n",
        "\n",
        "# Plot confusion matrix\n",
        "plt.figure(figsize=(8, 6))\n",
        "sns.heatmap(cm, annot=True, fmt='d', cmap='Blues')\n",
        "plt.xlabel('Predicted')\n",
        "plt.ylabel('Actual')\n",
        "plt.title('Confusion Matrix')\n",
        "plt.show()\n"
      ],
      "metadata": {
        "colab": {
          "base_uri": "https://localhost:8080/",
          "height": 854
        },
        "id": "kjbpJFGrx_Pe",
        "outputId": "6b649c2d-0bce-4d89-c878-825df35a8e76"
      },
      "execution_count": 33,
      "outputs": [
        {
          "output_type": "stream",
          "name": "stdout",
          "text": [
            "57/57 [==============================] - 1s 10ms/step - loss: 0.6272 - accuracy: 0.8228\n",
            "Best Model Accuracy: 0.8227777481079102\n",
            "57/57 [==============================] - 1s 9ms/step\n",
            "Confusion Matrix:\n",
            " [[1395   94]\n",
            " [ 225   86]]\n",
            "Classification Report:\n",
            "               precision    recall  f1-score   support\n",
            "\n",
            "           0       0.86      0.94      0.90      1489\n",
            "           1       0.48      0.28      0.35       311\n",
            "\n",
            "    accuracy                           0.82      1800\n",
            "   macro avg       0.67      0.61      0.62      1800\n",
            "weighted avg       0.79      0.82      0.80      1800\n",
            "\n"
          ]
        },
        {
          "output_type": "display_data",
          "data": {
            "text/plain": [
              "<Figure size 800x600 with 2 Axes>"
            ],
            "image/png": "[encoded data removed]"
          },
          "metadata": {}
        }
      ]
    },
    {
      "cell_type": "markdown",
      "source": [
        "**PART-A**"
      ],
      "metadata": {
        "id": "FHOq607ByIbd"
      }
    },
    {
      "cell_type": "code",
      "source": [
        "X = data['text']\n",
        "y = data['TR']"
      ],
      "metadata": {
        "id": "EcJ3wQ5uyEpg"
      },
      "execution_count": 34,
      "outputs": []
    },
    {
      "cell_type": "code",
      "source": [
        "voc_size=5000"
      ],
      "metadata": {
        "id": "S62uisspyZD2"
      },
      "execution_count": 35,
      "outputs": []
    },
    {
      "cell_type": "code",
      "source": [
        "onehot_repr = [one_hot(words,voc_size)for words in X]"
      ],
      "metadata": {
        "id": "E1yfiZaNybq5"
      },
      "execution_count": 36,
      "outputs": []
    },
    {
      "cell_type": "code",
      "source": [
        "embedded_doc = pad_sequences(onehot_repr,padding='pre',maxlen=30)\n",
        "print(embedded_doc)"
      ],
      "metadata": {
        "colab": {
          "base_uri": "https://localhost:8080/"
        },
        "id": "QCKx0tCqyeXI",
        "outputId": "b0a724a9-53f5-4e35-d8e2-b95f0489cd0e"
      },
      "execution_count": 37,
      "outputs": [
        {
          "output_type": "stream",
          "name": "stdout",
          "text": [
            "[[   0    0    0 ...  442   95 4795]\n",
            " [   0    0    0 ... 2041 2728 3928]\n",
            " [   0    0    0 ... 2914 1683  178]\n",
            " ...\n",
            " [   0    0    0 ... 2017 4193 2917]\n",
            " [   0    0    0 ... 3822 4971 4067]\n",
            " [   0    0    0 ... 1677 4697  502]]\n"
          ]
        }
      ]
    },
    {
      "cell_type": "code",
      "source": [
        "embedding_vector_features = 40\n",
        "model = Sequential()\n",
        "model.add(Embedding(voc_size, embedding_vector_features))\n",
        "model.add(LSTM(100, input_shape=(30, embedding_vector_features)))\n",
        "model.add(Dense(1, activation='sigmoid'))\n",
        "model.compile(loss='binary_crossentropy', optimizer='adam', metrics=['accuracy'])\n",
        "print(model.summary())"
      ],
      "metadata": {
        "colab": {
          "base_uri": "https://localhost:8080/"
        },
        "id": "ipfLZhfDyhVO",
        "outputId": "e24acf2b-9613-4998-afe1-d4c98474cf0e"
      },
      "execution_count": 38,
      "outputs": [
        {
          "output_type": "stream",
          "name": "stdout",
          "text": [
            "Model: \"sequential_2\"\n",
            "_________________________________________________________________\n",
            " Layer (type)                Output Shape              Param #   \n",
            "=================================================================\n",
            " embedding_2 (Embedding)     (None, None, 40)          200000    \n",
            "                                                                 \n",
            " lstm_2 (LSTM)               (None, 100)               56400     \n",
            "                                                                 \n",
            " dense_2 (Dense)             (None, 1)                 101       \n",
            "                                                                 \n",
            "=================================================================\n",
            "Total params: 256501 (1001.96 KB)\n",
            "Trainable params: 256501 (1001.96 KB)\n",
            "Non-trainable params: 0 (0.00 Byte)\n",
            "_________________________________________________________________\n",
            "None\n"
          ]
        }
      ]
    },
    {
      "cell_type": "code",
      "source": [
        "X_final = np.array(embedded_doc)\n",
        "y_final = np.array(y)"
      ],
      "metadata": {
        "id": "R1wwxEWGylJm"
      },
      "execution_count": 39,
      "outputs": []
    },
    {
      "cell_type": "code",
      "source": [
        "X_train1, X_test1, y_train1, y_test1 = train_test_split(X_final, y_final, test_size=0.2, random_state=42)"
      ],
      "metadata": {
        "id": "MrBMZM4PyoR_"
      },
      "execution_count": 40,
      "outputs": []
    },
    {
      "cell_type": "code",
      "source": [
        "# Train the model and save the history\n",
        "history = model.fit(X_train1, y_train1, validation_data=(X_test1, y_test1), epochs=5, batch_size=64)"
      ],
      "metadata": {
        "colab": {
          "base_uri": "https://localhost:8080/"
        },
        "id": "n3WriUApyrX-",
        "outputId": "96064647-7e53-49f0-a5d6-b3298627b987"
      },
      "execution_count": 41,
      "outputs": [
        {
          "output_type": "stream",
          "name": "stdout",
          "text": [
            "Epoch 1/5\n",
            "113/113 [==============================] - 7s 46ms/step - loss: 0.4064 - accuracy: 0.8523 - val_loss: 0.3077 - val_accuracy: 0.8739\n",
            "Epoch 2/5\n",
            "113/113 [==============================] - 7s 64ms/step - loss: 0.2544 - accuracy: 0.8869 - val_loss: 0.2735 - val_accuracy: 0.8872\n",
            "Epoch 3/5\n",
            "113/113 [==============================] - 5s 48ms/step - loss: 0.1972 - accuracy: 0.9151 - val_loss: 0.3289 - val_accuracy: 0.8817\n",
            "Epoch 4/5\n",
            "113/113 [==============================] - 6s 50ms/step - loss: 0.1551 - accuracy: 0.9374 - val_loss: 0.3586 - val_accuracy: 0.8722\n",
            "Epoch 5/5\n",
            "113/113 [==============================] - 6s 55ms/step - loss: 0.1225 - accuracy: 0.9550 - val_loss: 0.3885 - val_accuracy: 0.8633\n"
          ]
        }
      ]
    },
    {
      "cell_type": "code",
      "source": [
        "\n",
        "# Plot training & validation accuracy values\n",
        "plt.figure(figsize=(12, 4))\n",
        "\n",
        "plt.subplot(1, 2, 1)\n",
        "plt.plot(history.history['accuracy'])\n",
        "plt.plot(history.history['val_accuracy'])\n",
        "plt.title('Model accuracy')\n",
        "plt.ylabel('Accuracy')\n",
        "plt.xlabel('Epoch')\n",
        "plt.legend(['Train', 'Validation'], loc='upper left')\n",
        "\n",
        "\n",
        "plt.show()"
      ],
      "metadata": {
        "colab": {
          "base_uri": "https://localhost:8080/",
          "height": 410
        },
        "id": "NanSrqubyukv",
        "outputId": "131f1528-df60-4de5-f628-51f39cd5ab1a"
      },
      "execution_count": 42,
      "outputs": [
        {
          "output_type": "display_data",
          "data": {
            "text/plain": [
              "<Figure size 1200x400 with 1 Axes>"
            ],
            "image/png": "[encoded data removed]"
          },
          "metadata": {}
        }
      ]
    },
    {
      "cell_type": "code",
      "source": [
        "loss, accuracy = model.evaluate(X_test1, y_test1)\n",
        "print(f'Best Model Accuracy: {accuracy}')\n",
        "\n",
        "# Get predictions\n",
        "y_pred_prob = model.predict(X_test1)\n",
        "# Convert probabilities to class labels\n",
        "y_pred = (y_pred_prob > 0.5).astype(int)\n",
        "\n",
        "# Create and save confusion matrix\n",
        "cm = confusion_matrix(y_test1, y_pred)\n",
        "np.savetxt(\"confusion_matrix.csv\", cm, delimiter=\",\")\n",
        "print(\"Confusion Matrix:\\n\", cm)\n",
        "\n",
        "# Print classification report\n",
        "print(\"Classification Report:\\n\", classification_report(y_test1, y_pred))\n",
        "\n",
        "# Plot confusion matrix\n",
        "plt.figure(figsize=(8, 6))\n",
        "sns.heatmap(cm, annot=True, fmt='d', cmap='Blues')\n",
        "plt.xlabel('Predicted')\n",
        "plt.ylabel('Actual')\n",
        "plt.title('Confusion Matrix')\n",
        "plt.show()"
      ],
      "metadata": {
        "colab": {
          "base_uri": "https://localhost:8080/",
          "height": 854
        },
        "id": "u50Gc8Zgy0F-",
        "outputId": "59459426-51eb-4707-bb32-1ba9233d0593"
      },
      "execution_count": 43,
      "outputs": [
        {
          "output_type": "stream",
          "name": "stdout",
          "text": [
            "57/57 [==============================] - 0s 8ms/step - loss: 0.3885 - accuracy: 0.8633\n",
            "Best Model Accuracy: 0.8633333444595337\n",
            "57/57 [==============================] - 1s 7ms/step\n",
            "Confusion Matrix:\n",
            " [[1414  109]\n",
            " [ 137  140]]\n",
            "Classification Report:\n",
            "               precision    recall  f1-score   support\n",
            "\n",
            "           0       0.91      0.93      0.92      1523\n",
            "           1       0.56      0.51      0.53       277\n",
            "\n",
            "    accuracy                           0.86      1800\n",
            "   macro avg       0.74      0.72      0.73      1800\n",
            "weighted avg       0.86      0.86      0.86      1800\n",
            "\n"
          ]
        },
        {
          "output_type": "display_data",
          "data": {
            "text/plain": [
              "<Figure size 800x600 with 2 Axes>"
            ],
            "image/png": "[encoded data removed]"
          },
          "metadata": {}
        }
      ]
    }
  ]
}